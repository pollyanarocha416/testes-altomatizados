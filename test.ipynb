{
 "cells": [
  {
   "cell_type": "code",
   "execution_count": 1,
   "metadata": {},
   "outputs": [
    {
     "ename": "ModuleNotFoundError",
     "evalue": "No module named 'pyautogui'",
     "output_type": "error",
     "traceback": [
      "\u001b[1;31m---------------------------------------------------------------------------\u001b[0m",
      "\u001b[1;31mModuleNotFoundError\u001b[0m                       Traceback (most recent call last)",
      "Cell \u001b[1;32mIn[1], line 1\u001b[0m\n\u001b[1;32m----> 1\u001b[0m \u001b[39mimport\u001b[39;00m \u001b[39mpyautogui\u001b[39;00m\n\u001b[0;32m      3\u001b[0m screenWidth, screenHeight \u001b[39m=\u001b[39m pyautogui\u001b[39m.\u001b[39msize()\n",
      "\u001b[1;31mModuleNotFoundError\u001b[0m: No module named 'pyautogui'"
     ]
    }
   ],
   "source": [
    "import pyautogui\n",
    "\n",
    "screenWidth, screenHeight = pyautogui.size()\n",
    "\n"
   ]
  },
  {
   "cell_type": "code",
   "execution_count": 1,
   "metadata": {},
   "outputs": [
    {
     "ename": "ModuleNotFoundError",
     "evalue": "No module named 'pywinauto'",
     "output_type": "error",
     "traceback": [
      "\u001b[1;31m---------------------------------------------------------------------------\u001b[0m",
      "\u001b[1;31mModuleNotFoundError\u001b[0m                       Traceback (most recent call last)",
      "Cell \u001b[1;32mIn[1], line 1\u001b[0m\n\u001b[1;32m----> 1\u001b[0m \u001b[39mfrom\u001b[39;00m \u001b[39mpywinauto\u001b[39;00m\u001b[39m.\u001b[39;00m\u001b[39mapplication\u001b[39;00m \u001b[39mimport\u001b[39;00m Application\n\u001b[0;32m      2\u001b[0m app \u001b[39m=\u001b[39m Application(backend\u001b[39m=\u001b[39m\u001b[39m\"\u001b[39m\u001b[39muia\u001b[39m\u001b[39m\"\u001b[39m)\u001b[39m.\u001b[39mstart(\u001b[39m\"\u001b[39m\u001b[39mnotepad.exe\u001b[39m\u001b[39m\"\u001b[39m)\n\u001b[0;32m      3\u001b[0m app\u001b[39m.\u001b[39mUntitledNotepad\u001b[39m.\u001b[39mtype_keys(\u001b[39m\"\u001b[39m\u001b[39m%F\u001b[39;00m\u001b[39mX\u001b[39m\u001b[39m\"\u001b[39m)\n",
      "\u001b[1;31mModuleNotFoundError\u001b[0m: No module named 'pywinauto'"
     ]
    }
   ],
   "source": []
  },
  {
   "cell_type": "code",
   "execution_count": 4,
   "metadata": {},
   "outputs": [],
   "source": [
    "import math\n",
    "\n",
    "pi = 3.43234234323\n"
   ]
  },
  {
   "cell_type": "code",
   "execution_count": null,
   "metadata": {},
   "outputs": [],
   "source": []
  }
 ],
 "metadata": {
  "kernelspec": {
   "display_name": "Python 3",
   "language": "python",
   "name": "python3"
  },
  "language_info": {
   "codemirror_mode": {
    "name": "ipython",
    "version": 3
   },
   "file_extension": ".py",
   "mimetype": "text/x-python",
   "name": "python",
   "nbconvert_exporter": "python",
   "pygments_lexer": "ipython3",
   "version": "3.10.11"
  },
  "orig_nbformat": 4
 },
 "nbformat": 4,
 "nbformat_minor": 2
}
